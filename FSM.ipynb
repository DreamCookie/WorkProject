{
 "cells": [
  {
   "cell_type": "code",
   "execution_count": 1,
   "id": "f8510b9f",
   "metadata": {},
   "outputs": [],
   "source": [
    "class RegexFSM:\n",
    "    def __init__(self):\n",
    "        self.start = self._create_start()\n",
    "        self.q1 = self._create_q1()\n",
    "        self.q2 = self._create_q2()\n",
    "        # self.q3 = self._create_q3()\n",
    "        self.q32 = self._create_q32()\n",
    "        \n",
    "        self.current_state = self.start\n",
    "        self.stopped = False\n",
    "        \n",
    "    def send(self, char):\n",
    "        try:\n",
    "            next(self.current_state)\n",
    "            self.current_state.send(char)\n",
    "        except StopIteration:\n",
    "            self.stopped = True\n",
    "        \n",
    "    def does_match(self):\n",
    "        if self.stopped:\n",
    "            return False\n",
    "        return self.current_state == self.q2 #дошли до состояния?\n",
    "       \n",
    "\n",
    "    \n",
    "    def _create_start(self): #состояние 1 - выключенный станок\n",
    "        while True: \n",
    "            char = yield\n",
    "            if char == 'a': #условие перехода\n",
    "                self.current_state = self.q1 #переход в состояние 2\n",
    "            elif char == 'z':\n",
    "                 self.current_state = self.q32 #переход в состояние 32\n",
    "            else:\n",
    "                break\n",
    "    \n",
    "    \n",
    "    def _create_q1(self): # состояние 2\n",
    "        while True:\n",
    "            char = yield\n",
    "            if char == 'b': #условие перехода\n",
    "                self.current_state = self.q2 #переход в состояние 3\n",
    "            else:\n",
    "                break\n",
    "\n",
    "    \n",
    "    def _create_q2(self):\n",
    "        while True:\n",
    "            break\n",
    "\n",
    "    \n",
    "    def _create_q32(self):\n",
    "       \n",
    "        while True: \n",
    "            break\n",
    "       \n",
    "        \n",
    "def grep_regex(text):\n",
    "    evaluator = RegexFSM()\n",
    "    for ch in text:\n",
    "        evaluator.send(ch)\n",
    "    return evaluator.does_match()"
   ]
  },
  {
   "cell_type": "code",
   "execution_count": 2,
   "id": "287b0b09",
   "metadata": {},
   "outputs": [
    {
     "data": {
      "text/plain": [
       "True"
      ]
     },
     "execution_count": 2,
     "metadata": {},
     "output_type": "execute_result"
    }
   ],
   "source": [
    "grep_regex(\"ab\")"
   ]
  },
  {
   "cell_type": "code",
   "execution_count": 3,
   "id": "32a2c28f",
   "metadata": {},
   "outputs": [
    {
     "data": {
      "text/plain": [
       "False"
      ]
     },
     "execution_count": 3,
     "metadata": {},
     "output_type": "execute_result"
    }
   ],
   "source": [
    "grep_regex(\"az\")"
   ]
  },
  {
   "cell_type": "code",
   "execution_count": 4,
   "id": "659b9a1f",
   "metadata": {},
   "outputs": [
    {
     "data": {
      "text/plain": [
       "False"
      ]
     },
     "execution_count": 4,
     "metadata": {},
     "output_type": "execute_result"
    }
   ],
   "source": [
    "grep_regex(\"a\")"
   ]
  },
  {
   "cell_type": "code",
   "execution_count": null,
   "id": "273e1f5a",
   "metadata": {},
   "outputs": [],
   "source": []
  }
 ],
 "metadata": {
  "kernelspec": {
   "display_name": "Python 3",
   "language": "python",
   "name": "python3"
  },
  "language_info": {
   "codemirror_mode": {
    "name": "ipython",
    "version": 3
   },
   "file_extension": ".py",
   "mimetype": "text/x-python",
   "name": "python",
   "nbconvert_exporter": "python",
   "pygments_lexer": "ipython3",
   "version": "3.8.8"
  }
 },
 "nbformat": 4,
 "nbformat_minor": 5
}
