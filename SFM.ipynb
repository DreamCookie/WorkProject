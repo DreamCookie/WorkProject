{
 "cells": [
  {
   "cell_type": "code",
   "execution_count": 1,
   "id": "a98f8c83",
   "metadata": {},
   "outputs": [
    {
     "name": "stdout",
     "output_type": "stream",
     "text": [
      "q6 ended, Шпиндель готов к запуску на высокой частоте оборотов\n",
      "True\n"
     ]
    }
   ],
   "source": [
    "class RegexFSM:\n",
    "    def __init__(self):\n",
    "        self.start = self._create_start() #Нулевое состояние\n",
    "        self.q1 = self._create_q1() #состояние 2 станок с включенным электропитанием\n",
    "        self.q2 = self._create_q2() #состояние 3 смазанный станок, готовый к работе\n",
    "        self.q3 = self._create_q3() #состояние 4 шпиндель готов к запуску\n",
    "        self.q4 = self._create_q4() #состояние 5 шпиндель готов к запуску на низкой частоте оборотов\n",
    "        self.q5 = self._create_q5() #состояние 6 шпиндель готов к запуску на средней частоте оборотов\n",
    "        self.q6 = self._create_q6() #состояние 7 шпиндель готов к запуску на высокой частоте оборотов\n",
    "        # self.q7 = self._create_q7() #состояние\n",
    "        # self.q8 = self._create_q8() #состояние\n",
    "        # self.q9 = self._create_q9() #состояние\n",
    "        # self.q10 = self._create_q10() #состояние\n",
    "        # self.q11 = self._create_q11() #состояние\n",
    "        # self.q12 = self._create_q12() #состояние\n",
    "        # self.q13 = self._create_q13() #состояние\n",
    "        # self.q14 = self._create_q14() #состояние\n",
    "        # self.q15 = self._create_q15() #состояние\n",
    "        # self.q16 = self._create_q16() #состояние\n",
    "        # self.q17 = self._create_q17() #состояние\n",
    "        # self.q18 = self._create_q18() #состояние\n",
    "        # self.q19 = self._create_q19() #состояние\n",
    "        self.q29 = self._create_q29() #состояние 30 проверка или закрепление детали с помощью задней бабки (не влияет на 14 но важно при резании детали закрепленной таким образом при использовании средней и высокой скорости вращения шпинделя)\n",
    "        self.q32 = self._create_q32() #состояние 32 станок остановлен из-за неисправность во время подготовке к работе станка\n",
    "        \n",
    "        self.current_state = self.start\n",
    "        self.stopped = False\n",
    "        self.dict = {\n",
    "            self.q1: \"q1 ended, Питание подано\",\n",
    "            self.q2: \"q2 ended, Станок включен\",\n",
    "            self.q3: \"q3 ended, Шпиндель готов к работе\",\n",
    "            self.q4: \"q4 ended, Шпиндель готов к запуску на низкой частоте оборотов\",\n",
    "            self.q5:\"q5 ended,Шпиндель готов к запуску на средней частоте оборотов \",\n",
    "            self.q6:\"q6 ended, Шпиндель готов к запуску на высокой частоте оборотов\",\n",
    "            self.q29:\"q29 ended,проверка или закрепление детали с помощью задней бабки \",\n",
    "            self.q32: \"q32 ended, Станок неисправен\"\n",
    "            \n",
    "            }\n",
    "  \n",
    "            \n",
    "    def send(self, char):\n",
    "        try:\n",
    "            next(self.current_state)\n",
    "            self.current_state.send(char)\n",
    "        except StopIteration:\n",
    "            self.stopped = True\n",
    "        \n",
    "    def does_match(self):\n",
    "        if self.stopped:\n",
    "            return False\n",
    "      \n",
    "       \n",
    "        try:\n",
    "            res = self.dict[self.current_state]\n",
    "            print(res)\n",
    "            return True\n",
    "        except:\n",
    "            return False\n",
    "       \n",
    "     \n",
    "    def _create_start(self): #состояние 0 - выключенный станок\n",
    "        while True: \n",
    "            char = yield\n",
    "            if char == 'a': #условие перехода\n",
    "                self.current_state = self.q1 #переход в состояние 2 станок с включенным электропитанием\n",
    "            elif char == 'z':\n",
    "                 self.current_state = self.q32 #переход в состояние 32 станок остановлен из-за неисправность во время подготовке к работе станка.\n",
    "            else:\n",
    "                break\n",
    "    \n",
    "    \n",
    "    def _create_q1(self): # состояние 2 станок с включенным электропитанием\n",
    "        while True:\n",
    "            char = yield\n",
    "            if char == 'b': #условие перехода Б - 1 токарный станок смазан. \n",
    "                self.current_state = self.q2 #переход в состояние 3 смазанный станок, готовый к работе\n",
    "            else:\n",
    "                break\n",
    "\n",
    "    \n",
    "    def _create_q2(self): # состояние 3 смазанный станок, готовый к работе\n",
    "        while True:\n",
    "            char = yield\n",
    "            if char == 'в': #условие перехода Б - 1 токарный станок смазан. \n",
    "                self.current_state = self.q3 #переход в состояние 4 смазанный станок, готовый к работе\n",
    "            elif char == 'ц':\n",
    "                self.current_state = self.q29 #переход в состояние 30 открытый резцедержатель для обслуживагия в нем инструмента.\n",
    "            else:\n",
    "                break\n",
    "    \n",
    "    def _create_q3(self): # состояние 4 шпиндель готов к запуску\n",
    "        while True:\n",
    "            char = yield\n",
    "            if char == 'г': #условие перехода Б - 1 токарный станок смазан. \n",
    "                self.current_state = self.q4 #переход в состояние 5 шпиндель готов к запуску на низкой частоте оборотов\n",
    "            elif char == 'Г':\n",
    "                self.current_state = self.q5 #переход в состояние 6 шпиндель готов к запуску на средней частоте оборотов\n",
    "            elif char == 'g':\n",
    "                self.current_state = self.q6 #переход в состояние 7 шпиндель готов к запуску на высокой частоте оборотов\n",
    "            else:\n",
    "                break\n",
    "    def _create_q4(self):  #состояние 5 шпиндель готов к запуску на низкой частоте оборотов\n",
    "        while True: \n",
    "            char = yield\n",
    "            break\n",
    "        \n",
    "    def _create_q5(self): # состояние 6 шпиндель готов к запуску на средней частоте оборотов\n",
    "        while True: \n",
    "            char = yield\n",
    "            break\n",
    "    def _create_q6(self):  # состояние 7 шпиндель готов к запуску на высокой частоте оборотов\n",
    "        while True: \n",
    "            char = yield\n",
    "            break\n",
    "    \n",
    "    def _create_q29(self): #состояние 30 проверка или закрепление детали с помощью задней бабки \n",
    "        while True: \n",
    "            char = yield\n",
    "            break\n",
    "    \n",
    "    def _create_q32(self): \n",
    "        while True: \n",
    "            char = yield\n",
    "            break\n",
    "         \n",
    "       \n",
    "        \n",
    "def grep_regex(text):\n",
    "    evaluator = RegexFSM()\n",
    "    for ch in text:\n",
    "        evaluator.send(ch)\n",
    "    return evaluator.does_match()\n",
    " \n",
    "print(grep_regex('abвГ'))"
   ]
  },
  {
   "cell_type": "code",
   "execution_count": 2,
   "id": "a22187a8",
   "metadata": {},
   "outputs": [
    {
     "name": "stdout",
     "output_type": "stream",
     "text": [
      "q5 ended,Шпиндель готов к запуску на средней частоте оборотов \n",
      "True\n"
     ]
    }
   ],
   "source": [
    "print(grep_regex('abвГ'))"
   ]
  },
  {
   "cell_type": "code",
   "execution_count": 3,
   "id": "0ba640f5",
   "metadata": {},
   "outputs": [
    {
     "name": "stdout",
     "output_type": "stream",
     "text": [
      "q32 ended, Станок неисправен\n",
      "True\n"
     ]
    }
   ],
   "source": [
    "print(grep_regex('z'))"
   ]
  },
  {
   "cell_type": "code",
   "execution_count": null,
   "id": "59389e01",
   "metadata": {},
   "outputs": [],
   "source": []
  }
 ],
 "metadata": {
  "kernelspec": {
   "display_name": "Python 3",
   "language": "python",
   "name": "python3"
  },
  "language_info": {
   "codemirror_mode": {
    "name": "ipython",
    "version": 3
   },
   "file_extension": ".py",
   "mimetype": "text/x-python",
   "name": "python",
   "nbconvert_exporter": "python",
   "pygments_lexer": "ipython3",
   "version": "3.8.8"
  }
 },
 "nbformat": 4,
 "nbformat_minor": 5
}
